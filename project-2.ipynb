{
 "cells": [
  {
   "cell_type": "code",
   "execution_count": 1,
   "id": "5e94f71d-a55e-402e-87d0-af4917535c20",
   "metadata": {},
   "outputs": [
    {
     "name": "stderr",
     "output_type": "stream",
     "text": [
      "Setting default log level to \"WARN\".\n",
      "To adjust logging level use sc.setLogLevel(newLevel). For SparkR, use setLogLevel(newLevel).\n",
      "24/12/05 20:58:54 WARN NativeCodeLoader: Unable to load native-hadoop library for your platform... using builtin-java classes where applicable\n",
      "                                                                                \r"
     ]
    },
    {
     "name": "stdout",
     "output_type": "stream",
     "text": [
      "Schema of the dataset:\n",
      "root\n",
      " |-- time: string (nullable = true)\n",
      " |-- use [kW]: double (nullable = true)\n",
      " |-- gen [kW]: double (nullable = true)\n",
      " |-- House overall [kW]: double (nullable = true)\n",
      " |-- Dishwasher [kW]: double (nullable = true)\n",
      " |-- Furnace 1 [kW]: double (nullable = true)\n",
      " |-- Furnace 2 [kW]: double (nullable = true)\n",
      " |-- Home office [kW]: double (nullable = true)\n",
      " |-- Fridge [kW]: double (nullable = true)\n",
      " |-- Wine cellar [kW]: double (nullable = true)\n",
      " |-- Garage door [kW]: double (nullable = true)\n",
      " |-- Kitchen 12 [kW]: double (nullable = true)\n",
      " |-- Kitchen 14 [kW]: double (nullable = true)\n",
      " |-- Kitchen 38 [kW]: double (nullable = true)\n",
      " |-- Barn [kW]: double (nullable = true)\n",
      " |-- Well [kW]: double (nullable = true)\n",
      " |-- Microwave [kW]: double (nullable = true)\n",
      " |-- Living room [kW]: double (nullable = true)\n",
      " |-- Solar [kW]: double (nullable = true)\n",
      " |-- temperature: double (nullable = true)\n",
      " |-- humidity: double (nullable = true)\n",
      " |-- visibility: double (nullable = true)\n",
      " |-- apparentTemperature: double (nullable = true)\n",
      " |-- pressure: double (nullable = true)\n",
      " |-- windSpeed: double (nullable = true)\n",
      " |-- windBearing: double (nullable = true)\n",
      " |-- precipIntensity: double (nullable = true)\n",
      " |-- dewPoint: double (nullable = true)\n",
      " |-- precipProbability: double (nullable = true)\n",
      "\n",
      "First 10 rows of the dataset:\n"
     ]
    },
    {
     "name": "stderr",
     "output_type": "stream",
     "text": [
      "24/12/05 20:59:12 WARN SparkStringUtils: Truncated the string representation of a plan since it was too large. This behavior can be adjusted by setting 'spark.sql.debug.maxToStringFields'.\n"
     ]
    },
    {
     "name": "stdout",
     "output_type": "stream",
     "text": [
      "+----------+-----------+-----------+------------------+---------------+--------------+--------------+----------------+-----------+----------------+----------------+---------------+---------------+---------------+-----------+-----------+--------------+----------------+-----------+-----------+--------+----------+-------------------+--------+---------+-----------+---------------+--------+-----------------+\n",
      "|time      |use [kW]   |gen [kW]   |House overall [kW]|Dishwasher [kW]|Furnace 1 [kW]|Furnace 2 [kW]|Home office [kW]|Fridge [kW]|Wine cellar [kW]|Garage door [kW]|Kitchen 12 [kW]|Kitchen 14 [kW]|Kitchen 38 [kW]|Barn [kW]  |Well [kW]  |Microwave [kW]|Living room [kW]|Solar [kW] |temperature|humidity|visibility|apparentTemperature|pressure|windSpeed|windBearing|precipIntensity|dewPoint|precipProbability|\n",
      "+----------+-----------+-----------+------------------+---------------+--------------+--------------+----------------+-----------+----------------+----------------+---------------+---------------+---------------+-----------+-----------+--------------+----------------+-----------+-----------+--------+----------+-------------------+--------+---------+-----------+---------------+--------+-----------------+\n",
      "|1451624400|0.932833333|0.003483333|0.932833333       |3.33E-5        |0.0207        |0.061916667   |0.442633333     |0.12415    |0.006983333     |0.013083333     |4.16667E-4     |1.5E-4         |0.0            |0.03135    |0.001016667|0.004066667   |0.001516667     |0.003483333|36.14      |0.62    |10.0      |29.26              |1016.91 |9.18     |282.0      |0.0            |24.4    |0.0              |\n",
      "|1451624401|0.934333333|0.003466667|0.934333333       |0.0            |0.020716667   |0.063816667   |0.444066667     |0.124      |0.006983333     |0.013116667     |4.16667E-4     |1.5E-4         |0.0            |0.0315     |0.001016667|0.004066667   |0.00165         |0.003466667|36.14      |0.62    |10.0      |29.26              |1016.91 |9.18     |282.0      |0.0            |24.4    |0.0              |\n",
      "|1451624402|0.931816667|0.003466667|0.931816667       |1.67E-5        |0.0207        |0.062316667   |0.446066667     |0.123533333|0.006983333     |0.013083333     |4.33333E-4     |1.66667E-4     |1.67E-5        |0.031516667|0.001      |0.004066667   |0.00165         |0.003466667|36.14      |0.62    |10.0      |29.26              |1016.91 |9.18     |282.0      |0.0            |24.4    |0.0              |\n",
      "|1451624403|1.02205    |0.003483333|1.02205           |1.67E-5        |0.1069        |0.068516667   |0.446583333     |0.123133333|0.006983333     |0.013           |4.33333E-4     |2.16667E-4     |0.0            |0.0315     |0.001016667|0.004066667   |0.001616667     |0.003483333|36.14      |0.62    |10.0      |29.26              |1016.91 |9.18     |282.0      |0.0            |24.4    |0.0              |\n",
      "|1451624404|1.1394     |0.003466667|1.1394            |1.33333E-4     |0.236933333   |0.063983333   |0.446533333     |0.12285    |0.00685         |0.012783333     |4.5E-4         |3.33333E-4     |0.0            |0.0315     |0.001016667|0.004066667   |0.001583333     |0.003466667|36.14      |0.62    |10.0      |29.26              |1016.91 |9.18     |282.0      |0.0            |24.4    |0.0              |\n",
      "|1451624405|1.391866667|0.003433333|1.391866667       |2.83333E-4     |0.50325       |0.063666667   |0.447033333     |0.1223     |0.006716667     |0.012433333     |4.83333E-4     |5.66667E-4     |0.0            |0.03145    |0.001016667|0.004066667   |0.001583333     |0.003433333|36.14      |0.62    |10.0      |29.26              |1016.91 |9.18     |282.0      |0.0            |24.4    |0.0              |\n",
      "|1451624406|1.366216667|0.00345    |1.366216667       |2.83333E-4     |0.4994        |0.063716667   |0.443266667     |0.12205    |0.006733333     |0.012416667     |5.16667E-4     |5.5E-4         |0.0            |0.03155    |0.001033333|0.004116667   |0.001533333     |0.00345    |36.14      |0.62    |10.0      |29.26              |1016.91 |9.18     |282.0      |0.0            |24.4    |0.0              |\n",
      "|1451624407|1.4319     |0.003416667|1.4319            |2.5E-4         |0.477866667   |0.178633333   |0.444283333     |0.1218     |0.006783333     |0.01255         |4.83333E-4     |4.5E-4         |0.0            |0.031733333|0.001033333|0.0042        |0.00155         |0.003416667|36.14      |0.62    |10.0      |29.26              |1016.91 |9.18     |282.0      |0.0            |24.4    |0.0              |\n",
      "|1451624408|1.6273     |0.003416667|1.6273            |1.83333E-4     |0.44765       |0.3657        |0.441466667     |0.121616667|0.00695         |0.012716667     |4.66667E-4     |3.0E-4         |1.67E-5        |0.031766667|0.001016667|0.0042        |0.001566667     |0.003416667|36.14      |0.62    |10.0      |29.26              |1016.91 |9.18     |282.0      |0.0            |24.4    |0.0              |\n",
      "|1451624409|1.735383333|0.003416667|1.735383333       |1.67E-5        |0.17155       |0.6825        |0.438733333     |0.121633333|0.007233333     |0.01335         |3.66667E-4     |5.0E-5         |0.0            |0.031666667|0.001016667|0.0042        |0.001616667     |0.003416667|36.14      |0.62    |10.0      |29.26              |1016.91 |9.18     |282.0      |0.0            |24.4    |0.0              |\n",
      "+----------+-----------+-----------+------------------+---------------+--------------+--------------+----------------+-----------+----------------+----------------+---------------+---------------+---------------+-----------+-----------+--------------+----------------+-----------+-----------+--------+----------+-------------------+--------+---------+-----------+---------------+--------+-----------------+\n",
      "only showing top 10 rows\n",
      "\n"
     ]
    }
   ],
   "source": [
    "#task3 - data pipeline tasks\n",
    "#Use AWS CLI or PySpark’s built-in S3 support to load the dataset directly.\n",
    "from pyspark.sql import SparkSession\n",
    "\n",
    "# Initialize Spark session\n",
    "spark = SparkSession.builder \\\n",
    "    .appName(\"Verify HomeC Dataset\") \\\n",
    "    .getOrCreate()\n",
    "\n",
    "# Path to the dataset on EC2\n",
    "file_path = \"/home/ec2-user/HomeC.csv\"\n",
    "\n",
    "# Load the dataset\n",
    "dataset = spark.read.csv(file_path, header=True, inferSchema=True)\n",
    "\n",
    "# Show the schema of the dataset\n",
    "print(\"Schema of the dataset:\")\n",
    "dataset.printSchema()\n",
    "\n",
    "# Display the first 10 rows of the dataset\n",
    "print(\"First 10 rows of the dataset:\")\n",
    "dataset.show(10, truncate=False)\n"
   ]
  },
  {
   "cell_type": "code",
   "execution_count": 2,
   "id": "a94a4014-1bef-438a-9337-3fb7be7d678e",
   "metadata": {},
   "outputs": [
    {
     "name": "stderr",
     "output_type": "stream",
     "text": [
      "24/12/05 21:00:35 WARN SparkSession: Using an existing Spark session; only runtime SQL configurations will take effect.\n",
      "                                                                                \r"
     ]
    },
    {
     "name": "stdout",
     "output_type": "stream",
     "text": [
      "Transformed dataset:\n",
      "+-------------------+-----------+-----------+------------------+---------------+--------------+--------------+----------------+-----------+----------------+----------------+---------------+---------------+---------------+-----------+-----------+--------------+----------------+-----------+-----------+--------+----------+-------------------+--------+---------+-----------+---------------+--------+-----------------+----+-----+\n",
      "|time               |use [kW]   |gen [kW]   |House overall [kW]|Dishwasher [kW]|Furnace 1 [kW]|Furnace 2 [kW]|Home office [kW]|Fridge [kW]|Wine cellar [kW]|Garage door [kW]|Kitchen 12 [kW]|Kitchen 14 [kW]|Kitchen 38 [kW]|Barn [kW]  |Well [kW]  |Microwave [kW]|Living room [kW]|Solar [kW] |temperature|humidity|visibility|apparentTemperature|pressure|windSpeed|windBearing|precipIntensity|dewPoint|precipProbability|Year|Month|\n",
      "+-------------------+-----------+-----------+------------------+---------------+--------------+--------------+----------------+-----------+----------------+----------------+---------------+---------------+---------------+-----------+-----------+--------------+----------------+-----------+-----------+--------+----------+-------------------+--------+---------+-----------+---------------+--------+-----------------+----+-----+\n",
      "|2016-01-01 05:00:00|0.932833333|0.003483333|0.932833333       |3.33E-5        |0.0207        |0.061916667   |0.442633333     |0.12415    |0.006983333     |0.013083333     |4.16667E-4     |1.5E-4         |0.0            |0.03135    |0.001016667|0.004066667   |0.001516667     |0.003483333|36.14      |0.62    |10.0      |29.26              |1016.91 |9.18     |282.0      |0.0            |24.4    |0.0              |2016|1    |\n",
      "|2016-01-01 05:00:01|0.934333333|0.003466667|0.934333333       |0.0            |0.020716667   |0.063816667   |0.444066667     |0.124      |0.006983333     |0.013116667     |4.16667E-4     |1.5E-4         |0.0            |0.0315     |0.001016667|0.004066667   |0.00165         |0.003466667|36.14      |0.62    |10.0      |29.26              |1016.91 |9.18     |282.0      |0.0            |24.4    |0.0              |2016|1    |\n",
      "|2016-01-01 05:00:02|0.931816667|0.003466667|0.931816667       |1.67E-5        |0.0207        |0.062316667   |0.446066667     |0.123533333|0.006983333     |0.013083333     |4.33333E-4     |1.66667E-4     |1.67E-5        |0.031516667|0.001      |0.004066667   |0.00165         |0.003466667|36.14      |0.62    |10.0      |29.26              |1016.91 |9.18     |282.0      |0.0            |24.4    |0.0              |2016|1    |\n",
      "|2016-01-01 05:00:03|1.02205    |0.003483333|1.02205           |1.67E-5        |0.1069        |0.068516667   |0.446583333     |0.123133333|0.006983333     |0.013           |4.33333E-4     |2.16667E-4     |0.0            |0.0315     |0.001016667|0.004066667   |0.001616667     |0.003483333|36.14      |0.62    |10.0      |29.26              |1016.91 |9.18     |282.0      |0.0            |24.4    |0.0              |2016|1    |\n",
      "|2016-01-01 05:00:04|1.1394     |0.003466667|1.1394            |1.33333E-4     |0.236933333   |0.063983333   |0.446533333     |0.12285    |0.00685         |0.012783333     |4.5E-4         |3.33333E-4     |0.0            |0.0315     |0.001016667|0.004066667   |0.001583333     |0.003466667|36.14      |0.62    |10.0      |29.26              |1016.91 |9.18     |282.0      |0.0            |24.4    |0.0              |2016|1    |\n",
      "|2016-01-01 05:00:05|1.391866667|0.003433333|1.391866667       |2.83333E-4     |0.50325       |0.063666667   |0.447033333     |0.1223     |0.006716667     |0.012433333     |4.83333E-4     |5.66667E-4     |0.0            |0.03145    |0.001016667|0.004066667   |0.001583333     |0.003433333|36.14      |0.62    |10.0      |29.26              |1016.91 |9.18     |282.0      |0.0            |24.4    |0.0              |2016|1    |\n",
      "|2016-01-01 05:00:06|1.366216667|0.00345    |1.366216667       |2.83333E-4     |0.4994        |0.063716667   |0.443266667     |0.12205    |0.006733333     |0.012416667     |5.16667E-4     |5.5E-4         |0.0            |0.03155    |0.001033333|0.004116667   |0.001533333     |0.00345    |36.14      |0.62    |10.0      |29.26              |1016.91 |9.18     |282.0      |0.0            |24.4    |0.0              |2016|1    |\n",
      "|2016-01-01 05:00:07|1.4319     |0.003416667|1.4319            |2.5E-4         |0.477866667   |0.178633333   |0.444283333     |0.1218     |0.006783333     |0.01255         |4.83333E-4     |4.5E-4         |0.0            |0.031733333|0.001033333|0.0042        |0.00155         |0.003416667|36.14      |0.62    |10.0      |29.26              |1016.91 |9.18     |282.0      |0.0            |24.4    |0.0              |2016|1    |\n",
      "|2016-01-01 05:00:08|1.6273     |0.003416667|1.6273            |1.83333E-4     |0.44765       |0.3657        |0.441466667     |0.121616667|0.00695         |0.012716667     |4.66667E-4     |3.0E-4         |1.67E-5        |0.031766667|0.001016667|0.0042        |0.001566667     |0.003416667|36.14      |0.62    |10.0      |29.26              |1016.91 |9.18     |282.0      |0.0            |24.4    |0.0              |2016|1    |\n",
      "|2016-01-01 05:00:09|1.735383333|0.003416667|1.735383333       |1.67E-5        |0.17155       |0.6825        |0.438733333     |0.121633333|0.007233333     |0.01335         |3.66667E-4     |5.0E-5         |0.0            |0.031666667|0.001016667|0.0042        |0.001616667     |0.003416667|36.14      |0.62    |10.0      |29.26              |1016.91 |9.18     |282.0      |0.0            |24.4    |0.0              |2016|1    |\n",
      "+-------------------+-----------+-----------+------------------+---------------+--------------+--------------+----------------+-----------+----------------+----------------+---------------+---------------+---------------+-----------+-----------+--------------+----------------+-----------+-----------+--------+----------+-------------------+--------+---------+-----------+---------------+--------+-----------------+----+-----+\n",
      "only showing top 10 rows\n",
      "\n"
     ]
    }
   ],
   "source": [
    "#task3 - Data Transformation: Create at least 2 new columns (e.g., Year, Month).\n",
    "from pyspark.sql import SparkSession\n",
    "from pyspark.sql import functions as F\n",
    "\n",
    "# Initialize Spark session\n",
    "spark = SparkSession.builder \\\n",
    "    .appName(\"HomeC Data Transformation\") \\\n",
    "    .getOrCreate()\n",
    "\n",
    "# Path to the dataset on EC2\n",
    "file_path = \"/home/ec2-user/HomeC.csv\"\n",
    "\n",
    "# Load the dataset\n",
    "dataset = spark.read.csv(file_path, header=True, inferSchema=True)\n",
    "\n",
    "# Transform 'time' column from Unix timestamp to readable timestamp\n",
    "df_transformed = dataset.withColumn(\n",
    "    \"time\", \n",
    "    F.to_timestamp(F.from_unixtime(F.col(\"time\")))\n",
    ")\n",
    "\n",
    "# Create new columns 'Year' and 'Month'\n",
    "df_transformed = df_transformed.withColumn(\"Year\", F.year(\"time\")) \\\n",
    "                               .withColumn(\"Month\", F.month(\"time\"))\n",
    "\n",
    "# Display the transformed dataset with new columns\n",
    "print(\"Transformed dataset:\")\n",
    "df_transformed.show(10, truncate=False)\n",
    "\n"
   ]
  },
  {
   "cell_type": "code",
   "execution_count": 3,
   "id": "c158ff90-331e-47de-ac88-8e1e199d6815",
   "metadata": {},
   "outputs": [
    {
     "name": "stdout",
     "output_type": "stream",
     "text": [
      "Total Energy Usage by Month:\n"
     ]
    },
    {
     "name": "stderr",
     "output_type": "stream",
     "text": [
      "                                                                                \r"
     ]
    },
    {
     "name": "stdout",
     "output_type": "stream",
     "text": [
      "+----+-----+-----------------+\n",
      "|Year|Month|Total_Usage_kW   |\n",
      "+----+-----+-----------------+\n",
      "|NULL|NULL |NULL             |\n",
      "|2016|1    |432839.7404670082|\n",
      "+----+-----+-----------------+\n",
      "\n",
      "Average Temperature by Month:\n"
     ]
    },
    {
     "name": "stderr",
     "output_type": "stream",
     "text": [
      "[Stage 9:>                                                          (0 + 1) / 1]\r"
     ]
    },
    {
     "name": "stdout",
     "output_type": "stream",
     "text": [
      "+----+-----+-----------------+\n",
      "|Year|Month|Avg_Temperature  |\n",
      "+----+-----+-----------------+\n",
      "|NULL|NULL |NULL             |\n",
      "|2016|1    |50.74193461135845|\n",
      "+----+-----+-----------------+\n",
      "\n",
      "Top 10 Months by Solar Energy Generation:\n"
     ]
    },
    {
     "name": "stderr",
     "output_type": "stream",
     "text": [
      "                                                                                \r"
     ]
    },
    {
     "name": "stdout",
     "output_type": "stream",
     "text": [
      "+----+-----+-----------------+\n",
      "|Year|Month|Total_Solar_kW   |\n",
      "+----+-----+-----------------+\n",
      "|2016|1    |38412.76483438449|\n",
      "|NULL|NULL |NULL             |\n",
      "+----+-----+-----------------+\n",
      "\n",
      "Energy Generated vs. Consumed Per Year:\n"
     ]
    },
    {
     "name": "stderr",
     "output_type": "stream",
     "text": [
      "                                                                                \r"
     ]
    },
    {
     "name": "stdout",
     "output_type": "stream",
     "text": [
      "+----+-----------------+------------------+\n",
      "|Year|Total_Consumed_kW|Total_Generated_kW|\n",
      "+----+-----------------+------------------+\n",
      "|NULL|NULL             |NULL              |\n",
      "|2016|432839.7404670082|38412.76483438449 |\n",
      "+----+-----------------+------------------+\n",
      "\n",
      "Monthly Average Usage for Top Appliances:\n"
     ]
    },
    {
     "name": "stderr",
     "output_type": "stream",
     "text": [
      "[Stage 18:>                                                         (0 + 1) / 1]\r"
     ]
    },
    {
     "name": "stdout",
     "output_type": "stream",
     "text": [
      "+----+-----+-------------------+-------------------+--------------------+\n",
      "|Year|Month|Avg_Dishwasher_kW  |Avg_Fridge_kW      |Avg_Microwave_kW    |\n",
      "+----+-----+-------------------+-------------------+--------------------+\n",
      "|NULL|NULL |NULL               |NULL               |NULL                |\n",
      "|2016|1    |0.03136752497494595|0.06355641007374108|0.010982993427659423|\n",
      "+----+-----+-------------------+-------------------+--------------------+\n",
      "\n"
     ]
    },
    {
     "name": "stderr",
     "output_type": "stream",
     "text": [
      "                                                                                \r"
     ]
    }
   ],
   "source": [
    "#Task 3 - Data Aggregation: Compute at least 5 key metrics\n",
    "#total_usage, total_solar, Top 10 Months by Solar Energy Generation, Energy Generated vs. Consumed Per Year\n",
    "from pyspark.sql import functions as F\n",
    "\n",
    "# 1. Total Energy Usage by Year and Month\n",
    "total_usage_by_month = df_transformed.groupBy(\"Year\", \"Month\").agg(\n",
    "    F.sum(\"use [kW]\").alias(\"Total_Usage_kW\")\n",
    ")\n",
    "print(\"Total Energy Usage by Month:\")\n",
    "total_usage_by_month.show(10, truncate=False)\n",
    "\n",
    "# 2. Average Monthly Temperature\n",
    "avg_temp_by_month = df_transformed.groupBy(\"Year\", \"Month\").agg(\n",
    "    F.avg(\"temperature\").alias(\"Avg_Temperature\")\n",
    ")\n",
    "print(\"Average Temperature by Month:\")\n",
    "avg_temp_by_month.show(10, truncate=False)\n",
    "\n",
    "# 3. Top 10 Months by Solar Energy Generation\n",
    "top_solar_months = df_transformed.groupBy(\"Year\", \"Month\").agg(\n",
    "    F.sum(\"Solar [kW]\").alias(\"Total_Solar_kW\")\n",
    ").orderBy(F.desc(\"Total_Solar_kW\")).limit(10)\n",
    "print(\"Top 10 Months by Solar Energy Generation:\")\n",
    "top_solar_months.show(truncate=False)\n",
    "\n",
    "# 4. Total Energy Generated vs. Consumed Per Year\n",
    "energy_comparison = df_transformed.groupBy(\"Year\").agg(\n",
    "    F.sum(\"use [kW]\").alias(\"Total_Consumed_kW\"),\n",
    "    F.sum(\"gen [kW]\").alias(\"Total_Generated_kW\")\n",
    ")\n",
    "print(\"Energy Generated vs. Consumed Per Year:\")\n",
    "energy_comparison.show(truncate=False)\n",
    "\n",
    "# 5. Monthly Average Usage for Top Consumer Appliances\n",
    "# Selecting some key appliances for demonstration: 'Dishwasher [kW]', 'Fridge [kW]', 'Microwave [kW]'\n",
    "avg_appliance_usage = df_transformed.groupBy(\"Year\", \"Month\").agg(\n",
    "    F.avg(\"Dishwasher [kW]\").alias(\"Avg_Dishwasher_kW\"),\n",
    "    F.avg(\"Fridge [kW]\").alias(\"Avg_Fridge_kW\"),\n",
    "    F.avg(\"Microwave [kW]\").alias(\"Avg_Microwave_kW\")\n",
    ")\n",
    "print(\"Monthly Average Usage for Top Appliances:\")\n",
    "avg_appliance_usage.show(10, truncate=False)\n",
    "\n",
    "\n"
   ]
  },
  {
   "cell_type": "code",
   "execution_count": 4,
   "id": "ff1b0601-b824-4a06-9986-8605211171c3",
   "metadata": {},
   "outputs": [
    {
     "name": "stderr",
     "output_type": "stream",
     "text": [
      "                                                                                \r"
     ]
    }
   ],
   "source": [
    "#\n",
    "output_path = \"/home/ec2-user/procesed_data/\"\n",
    "\n",
    "# Save each DataFrame to local storage\n",
    "# Save the transformed DataFrame to local storage\n",
    "df_transformed.write.csv(output_path + \"df_transformed.csv\", header=True, mode=\"overwrite\")\n",
    "total_usage_by_month.write.csv(output_path + \"total_usage_by_month.csv\", header=True, mode=\"overwrite\")\n",
    "avg_temp_by_month.write.csv(output_path + \"avg_temp_by_month.csv\", header=True, mode=\"overwrite\")\n",
    "top_solar_months.write.csv(output_path + \"top_solar_months.csv\", header=True, mode=\"overwrite\")\n",
    "energy_comparison.write.csv(output_path + \"energy_comparison.csv\", header=True, mode=\"overwrite\")\n",
    "avg_appliance_usage.write.csv(output_path + \"avg_appliance_usage.csv\", header=True, mode=\"overwrite\")\n",
    "\n"
   ]
  },
  {
   "cell_type": "code",
   "execution_count": 12,
   "id": "41e0ce07-9e50-421c-ab6d-0602e13c662f",
   "metadata": {},
   "outputs": [
    {
     "name": "stdout",
     "output_type": "stream",
     "text": [
      "Defaulting to user installation because normal site-packages is not writeable\n",
      "Collecting boto3\n",
      "  Downloading boto3-1.35.72-py3-none-any.whl (139 kB)\n",
      "     |████████████████████████████████| 139 kB 3.9 MB/s            \n",
      "\u001b[?25hRequirement already satisfied: jmespath<2.0.0,>=0.7.1 in /usr/lib/python3.9/site-packages (from boto3) (0.10.0)\n",
      "Collecting s3transfer<0.11.0,>=0.10.0\n",
      "  Downloading s3transfer-0.10.4-py3-none-any.whl (83 kB)\n",
      "     |████████████████████████████████| 83 kB 3.2 MB/s             \n",
      "\u001b[?25hCollecting botocore<1.36.0,>=1.35.72\n",
      "  Downloading botocore-1.35.72-py3-none-any.whl (13.1 MB)\n",
      "     |████████████████████████████████| 13.1 MB 32.5 MB/s            \n",
      "\u001b[?25hRequirement already satisfied: urllib3<1.27,>=1.25.4 in /usr/lib/python3.9/site-packages (from botocore<1.36.0,>=1.35.72->boto3) (1.25.10)\n",
      "Requirement already satisfied: python-dateutil<3.0.0,>=2.1 in ./.local/lib/python3.9/site-packages (from botocore<1.36.0,>=1.35.72->boto3) (2.9.0.post0)\n",
      "Requirement already satisfied: six>=1.5 in /usr/lib/python3.9/site-packages (from python-dateutil<3.0.0,>=2.1->botocore<1.36.0,>=1.35.72->boto3) (1.15.0)\n",
      "Installing collected packages: botocore, s3transfer, boto3\n",
      "Successfully installed boto3-1.35.72 botocore-1.35.72 s3transfer-0.10.4\n"
     ]
    }
   ],
   "source": [
    "!pip install boto3\n",
    "\n",
    "\n"
   ]
  },
  {
   "cell_type": "code",
   "execution_count": 7,
   "id": "03be38a0-9600-4c41-b56b-794e518b752d",
   "metadata": {},
   "outputs": [
    {
     "name": "stdout",
     "output_type": "stream",
     "text": [
      "Uploading /home/ec2-user/procesed_data/df_transformed.csv/part-00000-377f067d-495f-4880-8e5d-49b979dcdb6a-c000.csv to s3://big-data-pipeline-rimysore/proccesed_data/part-00000-377f067d-495f-4880-8e5d-49b979dcdb6a-c000.csv\n",
      "Uploading /home/ec2-user/procesed_data/df_transformed.csv/.part-00000-377f067d-495f-4880-8e5d-49b979dcdb6a-c000.csv.crc to s3://big-data-pipeline-rimysore/proccesed_data/.part-00000-377f067d-495f-4880-8e5d-49b979dcdb6a-c000.csv.crc\n",
      "Uploading /home/ec2-user/procesed_data/df_transformed.csv/_SUCCESS to s3://big-data-pipeline-rimysore/proccesed_data/_SUCCESS\n",
      "Uploading /home/ec2-user/procesed_data/df_transformed.csv/._SUCCESS.crc to s3://big-data-pipeline-rimysore/proccesed_data/._SUCCESS.crc\n",
      "Uploading /home/ec2-user/procesed_data/total_usage_by_month.csv/part-00000-f737bda6-3fe8-432d-959c-2c0834a141c6-c000.csv to s3://big-data-pipeline-rimysore/proccesed_data/part-00000-f737bda6-3fe8-432d-959c-2c0834a141c6-c000.csv\n",
      "Uploading /home/ec2-user/procesed_data/total_usage_by_month.csv/.part-00000-f737bda6-3fe8-432d-959c-2c0834a141c6-c000.csv.crc to s3://big-data-pipeline-rimysore/proccesed_data/.part-00000-f737bda6-3fe8-432d-959c-2c0834a141c6-c000.csv.crc\n",
      "Uploading /home/ec2-user/procesed_data/total_usage_by_month.csv/_SUCCESS to s3://big-data-pipeline-rimysore/proccesed_data/_SUCCESS\n",
      "Uploading /home/ec2-user/procesed_data/total_usage_by_month.csv/._SUCCESS.crc to s3://big-data-pipeline-rimysore/proccesed_data/._SUCCESS.crc\n",
      "Uploading /home/ec2-user/procesed_data/avg_temp_by_month.csv/part-00000-8149693c-0080-4915-ab12-76ea91494f55-c000.csv to s3://big-data-pipeline-rimysore/proccesed_data/part-00000-8149693c-0080-4915-ab12-76ea91494f55-c000.csv\n",
      "Uploading /home/ec2-user/procesed_data/avg_temp_by_month.csv/.part-00000-8149693c-0080-4915-ab12-76ea91494f55-c000.csv.crc to s3://big-data-pipeline-rimysore/proccesed_data/.part-00000-8149693c-0080-4915-ab12-76ea91494f55-c000.csv.crc\n",
      "Uploading /home/ec2-user/procesed_data/avg_temp_by_month.csv/_SUCCESS to s3://big-data-pipeline-rimysore/proccesed_data/_SUCCESS\n",
      "Uploading /home/ec2-user/procesed_data/avg_temp_by_month.csv/._SUCCESS.crc to s3://big-data-pipeline-rimysore/proccesed_data/._SUCCESS.crc\n",
      "Uploading /home/ec2-user/procesed_data/top_solar_months.csv/part-00000-03df3206-7937-49fe-a81a-eb0704f431e6-c000.csv to s3://big-data-pipeline-rimysore/proccesed_data/part-00000-03df3206-7937-49fe-a81a-eb0704f431e6-c000.csv\n",
      "Uploading /home/ec2-user/procesed_data/top_solar_months.csv/.part-00000-03df3206-7937-49fe-a81a-eb0704f431e6-c000.csv.crc to s3://big-data-pipeline-rimysore/proccesed_data/.part-00000-03df3206-7937-49fe-a81a-eb0704f431e6-c000.csv.crc\n",
      "Uploading /home/ec2-user/procesed_data/top_solar_months.csv/_SUCCESS to s3://big-data-pipeline-rimysore/proccesed_data/_SUCCESS\n",
      "Uploading /home/ec2-user/procesed_data/top_solar_months.csv/._SUCCESS.crc to s3://big-data-pipeline-rimysore/proccesed_data/._SUCCESS.crc\n",
      "Uploading /home/ec2-user/procesed_data/energy_comparison.csv/part-00000-397133a2-cbd9-42a7-8d85-9022ba2a0476-c000.csv to s3://big-data-pipeline-rimysore/proccesed_data/part-00000-397133a2-cbd9-42a7-8d85-9022ba2a0476-c000.csv\n",
      "Uploading /home/ec2-user/procesed_data/energy_comparison.csv/.part-00000-397133a2-cbd9-42a7-8d85-9022ba2a0476-c000.csv.crc to s3://big-data-pipeline-rimysore/proccesed_data/.part-00000-397133a2-cbd9-42a7-8d85-9022ba2a0476-c000.csv.crc\n",
      "Uploading /home/ec2-user/procesed_data/energy_comparison.csv/_SUCCESS to s3://big-data-pipeline-rimysore/proccesed_data/_SUCCESS\n",
      "Uploading /home/ec2-user/procesed_data/energy_comparison.csv/._SUCCESS.crc to s3://big-data-pipeline-rimysore/proccesed_data/._SUCCESS.crc\n",
      "Uploading /home/ec2-user/procesed_data/avg_appliance_usage.csv/part-00000-6c3e0873-d40b-4d66-aca4-aea7f470def7-c000.csv to s3://big-data-pipeline-rimysore/proccesed_data/part-00000-6c3e0873-d40b-4d66-aca4-aea7f470def7-c000.csv\n",
      "Uploading /home/ec2-user/procesed_data/avg_appliance_usage.csv/.part-00000-6c3e0873-d40b-4d66-aca4-aea7f470def7-c000.csv.crc to s3://big-data-pipeline-rimysore/proccesed_data/.part-00000-6c3e0873-d40b-4d66-aca4-aea7f470def7-c000.csv.crc\n",
      "Uploading /home/ec2-user/procesed_data/avg_appliance_usage.csv/_SUCCESS to s3://big-data-pipeline-rimysore/proccesed_data/_SUCCESS\n",
      "Uploading /home/ec2-user/procesed_data/avg_appliance_usage.csv/._SUCCESS.crc to s3://big-data-pipeline-rimysore/proccesed_data/._SUCCESS.crc\n"
     ]
    }
   ],
   "source": [
    "#Task 3 - Store Processed Data Back to S3\n",
    "import boto3\n",
    "import os\n",
    "\n",
    "# Initialize S3 client\n",
    "s3 = boto3.client(\"s3\")\n",
    "\n",
    "# S3 bucket name and folder\n",
    "s3_bucket_name = \"big-data-pipeline-rimysore\"\n",
    "s3_folder = \"proccesed_data/\"\n",
    "\n",
    "# Function to upload files to S3\n",
    "def upload_to_s3(local_folder, s3_bucket, s3_prefix):\n",
    "    for root, dirs, files in os.walk(local_folder):\n",
    "        for file in files:\n",
    "            local_file_path = os.path.join(root, file)\n",
    "            s3_file_path = s3_prefix + file\n",
    "            print(f\"Uploading {local_file_path} to s3://{s3_bucket}/{s3_file_path}\")\n",
    "            s3.upload_file(local_file_path, s3_bucket, s3_file_path)\n",
    "\n",
    "# Upload the processed data to S3\n",
    "upload_to_s3(output_path, s3_bucket_name, s3_folder)\n"
   ]
  },
  {
   "cell_type": "code",
   "execution_count": 8,
   "id": "fc887832-618d-46ec-a4e1-8058cd9e41d6",
   "metadata": {},
   "outputs": [
    {
     "name": "stdout",
     "output_type": "stream",
     "text": [
      "+----+-----+-----------------+\n",
      "|Year|Month|   TotalUsageTemp|\n",
      "+----+-----+-----------------+\n",
      "|2016|    1|50.74193461135845|\n",
      "|NULL| NULL|             NULL|\n",
      "+----+-----+-----------------+\n",
      "\n",
      "+-----+-----------------+\n",
      "|Month|       TotalUsage|\n",
      "+-----+-----------------+\n",
      "| NULL|             NULL|\n",
      "|    1|432839.7404670082|\n",
      "+-----+-----------------+\n",
      "\n",
      "+-----+-----------------+\n",
      "|Month|  TotalUsageSolar|\n",
      "+-----+-----------------+\n",
      "| NULL|             NULL|\n",
      "|    1|38412.76483438449|\n",
      "+-----+-----------------+\n",
      "\n",
      "+----+-----------------+\n",
      "|Year|   TotalGenerated|\n",
      "+----+-----------------+\n",
      "|NULL|             NULL|\n",
      "|2016|38412.76483438449|\n",
      "+----+-----------------+\n",
      "\n",
      "+-----+-------------------+\n",
      "|Month|   TotalFridgeUsage|\n",
      "+-----+-------------------+\n",
      "| NULL|               NULL|\n",
      "|    1|0.06355641007374108|\n",
      "+-----+-------------------+\n",
      "\n"
     ]
    }
   ],
   "source": [
    "#Task 4 SQL\n",
    "\n",
    "# Read the CSV file back into a DataFrame\n",
    "total_usage_by_month_df = spark.read.csv(output_path + \"total_usage_by_month.csv\", header=True, inferSchema=True)\n",
    "avg_temp_by_month = spark.read.csv(output_path + \"avg_temp_by_month.csv\", header=True, inferSchema=True)\n",
    "top_solar_months = spark.read.csv(output_path + \"top_solar_months.csv\", header=True, inferSchema=True)\n",
    "energy_comparison = spark.read.csv(output_path + \"energy_comparison.csv\", header=True, inferSchema=True)\n",
    "avg_appliance_usage = spark.read.csv(output_path + \"avg_appliance_usage.csv\", header=True, inferSchema=True)\n",
    "\n",
    "# Register the DataFrame as a temporary view\n",
    "total_usage_by_month_df.createOrReplaceTempView(\"total_usage_by_month\")\n",
    "avg_temp_by_month.createOrReplaceTempView(\"avg_temp_by_month\")\n",
    "top_solar_months.createOrReplaceTempView(\"top_solar_months\")\n",
    "energy_comparison.createOrReplaceTempView(\"energy_comparison\")\n",
    "avg_appliance_usage.createOrReplaceTempView(\"avg_appliance_usage\")\n",
    "\n",
    "# Now, run your SQL query\n",
    "# Query 1 - Avg temp month over month analysis\n",
    "query_1 = \"\"\"\n",
    "SELECT Year, Month, SUM(Avg_Temperature) AS TotalUsageTemp\n",
    "FROM avg_temp_by_month\n",
    "GROUP BY Year, Month\n",
    "ORDER BY TotalUsageTemp DESC\n",
    "LIMIT 10\n",
    "\"\"\"\n",
    "\n",
    "result_1 = spark.sql(query_1)\n",
    "result_1.show()\n",
    "\n",
    "#query2 - Identify average seasonal trends\n",
    "query_2 = \"\"\"\n",
    "SELECT Month, SUM(Total_Usage_kW) AS TotalUsage\n",
    "FROM total_usage_by_month\n",
    "GROUP BY Month\n",
    "ORDER BY Month\n",
    "\"\"\"\n",
    "result_2 = spark.sql(query_2)\n",
    "result_2.show()\n",
    "\n",
    "#query3 - Identify average seasonal trends for solar power\n",
    "query_3 = \"\"\"\n",
    "SELECT Month, SUM(Total_Solar_kW) AS TotalUsageSolar\n",
    "FROM top_solar_months\n",
    "GROUP BY Month\n",
    "ORDER BY Month\n",
    "\"\"\"\n",
    "result_3 = spark.sql(query_3)\n",
    "result_3.show()\n",
    "\n",
    "#query4 - Identify average seasonal on generation\n",
    "query_4 = \"\"\"\n",
    "SELECT Year, SUM(Total_Generated_kW) AS TotalGenerated\n",
    "FROM energy_comparison\n",
    "GROUP BY Year\n",
    "ORDER BY Year\n",
    "\"\"\"\n",
    "result_4 = spark.sql(query_4)\n",
    "result_4.show()\n",
    "\n",
    "#query5 - Identify average seasonal trends for fridge\n",
    "query_5 = \"\"\"\n",
    "SELECT Month, SUM(Avg_Fridge_kW) AS TotalFridgeUsage\n",
    "FROM avg_appliance_usage\n",
    "GROUP BY Month\n",
    "ORDER BY Month\n",
    "\"\"\"\n",
    "result_5 = spark.sql(query_5)\n",
    "result_5.show()\n",
    "\n",
    "\n",
    "\n",
    "\n",
    "\n",
    "\n",
    "\n",
    "\n",
    "\n",
    "\n"
   ]
  }
 ],
 "metadata": {
  "kernelspec": {
   "display_name": "Python 3 (ipykernel)",
   "language": "python",
   "name": "python3"
  },
  "language_info": {
   "codemirror_mode": {
    "name": "ipython",
    "version": 3
   },
   "file_extension": ".py",
   "mimetype": "text/x-python",
   "name": "python",
   "nbconvert_exporter": "python",
   "pygments_lexer": "ipython3",
   "version": "3.9.16"
  }
 },
 "nbformat": 4,
 "nbformat_minor": 5
}
